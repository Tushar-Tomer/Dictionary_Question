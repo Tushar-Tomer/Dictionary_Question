{
 "cells": [
  {
   "cell_type": "markdown",
   "id": "dc127c11",
   "metadata": {},
   "source": [
    "# Count how many unique alphabet in the given name from dictionary ?"
   ]
  },
  {
   "cell_type": "code",
   "execution_count": 11,
   "id": "8a0d0a7b",
   "metadata": {},
   "outputs": [
    {
     "name": "stdout",
     "output_type": "stream",
     "text": [
      "{'d': 1, 'e': 2, 'p': 1, 'a': 1, 'n': 1, 's': 1, 'h': 1, 'u': 1}\n"
     ]
    }
   ],
   "source": [
    "x='deepanshu'\n",
    "a=list(x)\n",
    "b={i:a.count(i) for i in a}\n",
    "print(b)"
   ]
  },
  {
   "cell_type": "markdown",
   "id": "3ae88b56",
   "metadata": {},
   "source": [
    "# Dynamic Count"
   ]
  },
  {
   "cell_type": "code",
   "execution_count": 17,
   "id": "7a65e2e5",
   "metadata": {},
   "outputs": [
    {
     "name": "stdout",
     "output_type": "stream",
     "text": [
      "Enter your name = Deepanshu\n",
      "Your Count is  {'D': 1, 'e': 2, 'p': 1, 'a': 1, 'n': 1, 's': 1, 'h': 1, 'u': 1}\n"
     ]
    }
   ],
   "source": [
    "x=input(\"Enter your name = \")\n",
    "a=list(x)\n",
    "b={i:a.count(i) for i in a}\n",
    "print(\"Your Count is \",b)"
   ]
  }
 ],
 "metadata": {
  "kernelspec": {
   "display_name": "Python 3 (ipykernel)",
   "language": "python",
   "name": "python3"
  },
  "language_info": {
   "codemirror_mode": {
    "name": "ipython",
    "version": 3
   },
   "file_extension": ".py",
   "mimetype": "text/x-python",
   "name": "python",
   "nbconvert_exporter": "python",
   "pygments_lexer": "ipython3",
   "version": "3.9.12"
  }
 },
 "nbformat": 4,
 "nbformat_minor": 5
}
